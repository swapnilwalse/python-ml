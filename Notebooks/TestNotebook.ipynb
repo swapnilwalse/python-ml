{
 "cells": [
  {
   "cell_type": "markdown",
   "metadata": {},
   "source": [
    "## Below code creates a perceptron to be used to create gates."
   ]
  },
  {
   "cell_type": "code",
   "execution_count": 1,
   "metadata": {},
   "outputs": [],
   "source": [
    "import numpy as np\n",
    "class Perceptron(object):\n",
    "    \"\"\"Perceptron classifier.\n",
    "        Parameters\n",
    "        ------------\n",
    "        eta : Learning rate (between 0.0 and 1.0)\n",
    "        n_iter : Number of passes over the training dataset.\n",
    "        Attributes\n",
    "        -----------\n",
    "        w_ : 1d-array, weights after fitting.\n",
    "        errors_ : list, number of misclassifications in every epoch.\n",
    "    \"\"\"\n",
    "    def __init__(self, eta=0.01, n_iter=10):\n",
    "        #Class constructor\n",
    "        self.eta = eta\n",
    "        self.n_iter = n_iter\n",
    "        \n",
    "    def fit(self, X, y):\n",
    "        \"\"\"Fit training data.\n",
    "            Parameters\n",
    "            ----------\n",
    "            X : {array-like}, shape = [n_samples, n_features], Training vectors, where n_samples is the \n",
    "                        number of samples and n_features is the number of features.\n",
    "            y : array-like, shape = [n_samples], Target values.\n",
    "            Returns\n",
    "            -------\n",
    "            self : object\n",
    "        \"\"\"\n",
    "        #X.shape is tuple (20,2), X.shape[1] will return 2\n",
    "        #w_ will be initialized to an array of 1+2=3 zeros, ie: array([0., 0., 0.])\n",
    "        self.w_ = np.zeros(1 + X.shape[1])\n",
    "        #initialize errors_ to blank list\n",
    "        self.errors_ = []\n",
    "        #for _ in .... is a way to do the looping but without caring about the number in loop\n",
    "        #range function creates a tuple with first value as 0 and n_iter\n",
    "        for _ in range(self.n_iter):\n",
    "            errors = 0\n",
    "            # zip function can be used to join two lists together, element wise. \n",
    "            # So zip of [[0,0], [0,1]] and [0,1] will give [0, 0] and 0 in first loop, and [0, 1] \n",
    "                # and 1 in second loop\n",
    "            for xi, target in zip(X, y):\n",
    "                #eta will be multiplied by error to find the next update\n",
    "                update = self.eta * (target - self.predict(xi))\n",
    "                self.w_[1:] += update * xi\n",
    "                self.w_[0] += update\n",
    "                errors += int(update != 0.0)\n",
    "            self.errors_.append(errors)\n",
    "        return self\n",
    "    def net_input(self, X):\n",
    "        \"\"\"Calculate net input\"\"\"\n",
    "        print(\"weights: {}, rate: {}, iteration: {}, errors: {}\".format(self.w_, self.eta, self.n_iter, \\\n",
    "                                                                        self.errors_))\n",
    "        return np.dot(X, self.w_[1:]) + self.w_[0]\n",
    "    def predict(self, X):\n",
    "        \"\"\"Return class label after unit step\"\"\"\n",
    "        return np.where(self.net_input(X) >= 0.0, 1, 0)"
   ]
  },
  {
   "cell_type": "markdown",
   "metadata": {},
   "source": [
    "### Create AND gate using above perceptron"
   ]
  },
  {
   "cell_type": "code",
   "execution_count": 12,
   "metadata": {},
   "outputs": [
    {
     "name": "stdout",
     "output_type": "stream",
     "text": [
      "Automatic pdb calling has been turned ON\n"
     ]
    }
   ],
   "source": [
    "X = np.array([[0,0],[0,1],[1,0],[1,1]])\n",
    "y = np.array([0,0,0,1])"
   ]
  },
  {
   "cell_type": "code",
   "execution_count": 3,
   "metadata": {},
   "outputs": [],
   "source": [
    "y = np.array([0,0,0,1])"
   ]
  },
  {
   "cell_type": "code",
   "execution_count": 4,
   "metadata": {},
   "outputs": [],
   "source": [
    "and_ppt = Perceptron(eta=1,n_iter=10)"
   ]
  },
  {
   "cell_type": "code",
   "execution_count": 6,
   "metadata": {},
   "outputs": [
    {
     "name": "stdout",
     "output_type": "stream",
     "text": [
      "weights: [0. 0. 0.], rate: 1, iteration: 10, errors: []\n",
      "weights: [-1.  0.  0.], rate: 1, iteration: 10, errors: []\n",
      "weights: [-1.  0.  0.], rate: 1, iteration: 10, errors: []\n",
      "weights: [-1.  0.  0.], rate: 1, iteration: 10, errors: []\n",
      "weights: [0. 1. 1.], rate: 1, iteration: 10, errors: [2]\n",
      "weights: [-1.  1.  1.], rate: 1, iteration: 10, errors: [2]\n",
      "weights: [-2.  1.  0.], rate: 1, iteration: 10, errors: [2]\n",
      "weights: [-2.  1.  0.], rate: 1, iteration: 10, errors: [2]\n",
      "weights: [-1.  2.  1.], rate: 1, iteration: 10, errors: [2, 3]\n",
      "weights: [-1.  2.  1.], rate: 1, iteration: 10, errors: [2, 3]\n",
      "weights: [-2.  2.  0.], rate: 1, iteration: 10, errors: [2, 3]\n",
      "weights: [-3.  1.  0.], rate: 1, iteration: 10, errors: [2, 3]\n",
      "weights: [-2.  2.  1.], rate: 1, iteration: 10, errors: [2, 3, 3]\n",
      "weights: [-2.  2.  1.], rate: 1, iteration: 10, errors: [2, 3, 3]\n",
      "weights: [-2.  2.  1.], rate: 1, iteration: 10, errors: [2, 3, 3]\n",
      "weights: [-3.  1.  1.], rate: 1, iteration: 10, errors: [2, 3, 3]\n",
      "weights: [-2.  2.  2.], rate: 1, iteration: 10, errors: [2, 3, 3, 2]\n",
      "weights: [-2.  2.  2.], rate: 1, iteration: 10, errors: [2, 3, 3, 2]\n",
      "weights: [-3.  2.  1.], rate: 1, iteration: 10, errors: [2, 3, 3, 2]\n",
      "weights: [-3.  2.  1.], rate: 1, iteration: 10, errors: [2, 3, 3, 2]\n",
      "weights: [-3.  2.  1.], rate: 1, iteration: 10, errors: [2, 3, 3, 2, 1]\n",
      "weights: [-3.  2.  1.], rate: 1, iteration: 10, errors: [2, 3, 3, 2, 1]\n",
      "weights: [-3.  2.  1.], rate: 1, iteration: 10, errors: [2, 3, 3, 2, 1]\n",
      "weights: [-3.  2.  1.], rate: 1, iteration: 10, errors: [2, 3, 3, 2, 1]\n",
      "weights: [-3.  2.  1.], rate: 1, iteration: 10, errors: [2, 3, 3, 2, 1, 0]\n",
      "weights: [-3.  2.  1.], rate: 1, iteration: 10, errors: [2, 3, 3, 2, 1, 0]\n",
      "weights: [-3.  2.  1.], rate: 1, iteration: 10, errors: [2, 3, 3, 2, 1, 0]\n",
      "weights: [-3.  2.  1.], rate: 1, iteration: 10, errors: [2, 3, 3, 2, 1, 0]\n",
      "weights: [-3.  2.  1.], rate: 1, iteration: 10, errors: [2, 3, 3, 2, 1, 0, 0]\n",
      "weights: [-3.  2.  1.], rate: 1, iteration: 10, errors: [2, 3, 3, 2, 1, 0, 0]\n",
      "weights: [-3.  2.  1.], rate: 1, iteration: 10, errors: [2, 3, 3, 2, 1, 0, 0]\n",
      "weights: [-3.  2.  1.], rate: 1, iteration: 10, errors: [2, 3, 3, 2, 1, 0, 0]\n",
      "weights: [-3.  2.  1.], rate: 1, iteration: 10, errors: [2, 3, 3, 2, 1, 0, 0, 0]\n",
      "weights: [-3.  2.  1.], rate: 1, iteration: 10, errors: [2, 3, 3, 2, 1, 0, 0, 0]\n",
      "weights: [-3.  2.  1.], rate: 1, iteration: 10, errors: [2, 3, 3, 2, 1, 0, 0, 0]\n",
      "weights: [-3.  2.  1.], rate: 1, iteration: 10, errors: [2, 3, 3, 2, 1, 0, 0, 0]\n",
      "weights: [-3.  2.  1.], rate: 1, iteration: 10, errors: [2, 3, 3, 2, 1, 0, 0, 0, 0]\n",
      "weights: [-3.  2.  1.], rate: 1, iteration: 10, errors: [2, 3, 3, 2, 1, 0, 0, 0, 0]\n",
      "weights: [-3.  2.  1.], rate: 1, iteration: 10, errors: [2, 3, 3, 2, 1, 0, 0, 0, 0]\n",
      "weights: [-3.  2.  1.], rate: 1, iteration: 10, errors: [2, 3, 3, 2, 1, 0, 0, 0, 0]\n"
     ]
    }
   ],
   "source": [
    "and_ppt = and_ppt.fit(X,y)"
   ]
  },
  {
   "cell_type": "code",
   "execution_count": 7,
   "metadata": {},
   "outputs": [
    {
     "name": "stdout",
     "output_type": "stream",
     "text": [
      "weights: [-3.  2.  1.], rate: 1, iteration: 10, errors: [2, 3, 3, 2, 1, 0, 0, 0, 0, 0]\n",
      "0\n",
      "weights: [-3.  2.  1.], rate: 1, iteration: 10, errors: [2, 3, 3, 2, 1, 0, 0, 0, 0, 0]\n",
      "0\n",
      "weights: [-3.  2.  1.], rate: 1, iteration: 10, errors: [2, 3, 3, 2, 1, 0, 0, 0, 0, 0]\n",
      "0\n",
      "weights: [-3.  2.  1.], rate: 1, iteration: 10, errors: [2, 3, 3, 2, 1, 0, 0, 0, 0, 0]\n",
      "1\n"
     ]
    }
   ],
   "source": [
    "print(and_ppt.predict([0,0]))\n",
    "print(and_ppt.predict([0,1]))\n",
    "print(and_ppt.predict([1,0]))\n",
    "print(and_ppt.predict([1,1]))"
   ]
  },
  {
   "cell_type": "markdown",
   "metadata": {},
   "source": [
    "### Create an OR gate using perceptron"
   ]
  },
  {
   "cell_type": "code",
   "execution_count": null,
   "metadata": {},
   "outputs": [],
   "source": [
    "X = np.array([[0,0],[0,1],[1,0],[1,1]])\n",
    "y = np.array([0,1,1,1])\n",
    "\n",
    "or_ppt = Perceptron(eta=1,n_iter=10)\n",
    "or_ppt = ppt.fit(X,y)"
   ]
  },
  {
   "cell_type": "code",
   "execution_count": null,
   "metadata": {},
   "outputs": [],
   "source": [
    "print(or_ppt.predict([0,0]))\n",
    "print(or_ppt.predict([0,1]))\n",
    "print(or_ppt.predict([1,0]))\n",
    "print(or_ppt.predict([1,1]))"
   ]
  },
  {
   "cell_type": "markdown",
   "metadata": {},
   "source": [
    "# Iris Data processing"
   ]
  },
  {
   "cell_type": "code",
   "execution_count": null,
   "metadata": {},
   "outputs": [],
   "source": [
    "import pandas as pd\n",
    "import matplotlib.pyplot as plt\n",
    "import numpy as np\n",
    "\n",
    "df = pd.read_csv('https://archive.ics.uci.edu/ml/machine-learning-databases/iris/iris.data', header=None)\n",
    "\n",
    "y = df.iloc[0:100, 4].values\n",
    "y = np.where(y == 'Iris-setosa', -1, 1)\n",
    "X = df.iloc[0:100, [0, 2]].values\n",
    "plt.scatter(X[:50, 0], X[:50, 1], color='red', marker='o', label='setosa')\n",
    "plt.scatter(X[50:100, 0], X[50:100, 1], color='blue', marker='x', label='versicolor')\n",
    "plt.xlabel('sepal length')\n",
    "plt.ylabel('petal length')\n",
    "plt.legend(loc='upper left')\n",
    "plt.show()\n"
   ]
  },
  {
   "cell_type": "code",
   "execution_count": null,
   "metadata": {},
   "outputs": [],
   "source": [
    "#Same perceptron is created with minor changes to predict the class of iris flower based on input data.\n",
    "import numpy as np\n",
    "class Perceptron(object):\n",
    "    \"\"\"Perceptron classifier.\n",
    "        Parameters\n",
    "        ------------\n",
    "        eta : Learning rate (between 0.0 and 1.0)\n",
    "        n_iter : Number of passes over the training dataset.\n",
    "        Attributes\n",
    "        -----------\n",
    "        w_ : 1d-array, weights after fitting.\n",
    "        errors_ : list, number of misclassifications in every epoch.\n",
    "    \"\"\"\n",
    "    def __init__(self, eta=0.01, n_iter=10):\n",
    "        #Class constructor\n",
    "        self.eta = eta\n",
    "        self.n_iter = n_iter\n",
    "        \n",
    "    def fit(self, X, y):\n",
    "        \"\"\"Fit training data.\n",
    "            Parameters\n",
    "            ----------\n",
    "            X : {array-like}, shape = [n_samples, n_features], Training vectors, where n_samples is the \n",
    "                        number of samples and n_features is the number of features.\n",
    "            y : array-like, shape = [n_samples], Target values.\n",
    "            Returns\n",
    "            -------\n",
    "            self : object\n",
    "        \"\"\"\n",
    "        #X.shape is tuple (20,2), X.shape[1] will return 2\n",
    "        #w_ will be initialized to an array of 1+2=3 zeros, ie: array([0., 0., 0.])\n",
    "        self.w_ = np.ones(1 + X.shape[1])\n",
    "        #initialize errors_ to blank list\n",
    "        self.errors_ = []\n",
    "        #for _ in .... is a way to do the looping but without caring about the number in loop\n",
    "        #range function creates a tuple with first value as 0 and n_iter\n",
    "        for _ in range(self.n_iter):\n",
    "            errors = 0\n",
    "            # zip function can be used to join two lists together, element wise. So zip of [[0,0], [0,1]] and [0,1]\n",
    "            # will give [0, 0] and 0 in first loop, and [0, 1] and 1 in second loop\n",
    "            for xi, target in zip(X, y):\n",
    "                #eta will be multiplied by error to find the next update\n",
    "                update = self.eta * (target - self.predict(xi))\n",
    "                self.w_[1:] += update * xi\n",
    "                self.w_[0] += update\n",
    "                errors += int(update != 0.0)\n",
    "            self.errors_.append(errors)\n",
    "        return self\n",
    "    def net_input(self, X):\n",
    "        \"\"\"Calculate net input\"\"\"\n",
    "        #print(\"weights: {}, rate: {}, iteration: {}, errors: {}\".format(self.w_, self.eta, self.n_iter, self.errors_))\n",
    "        return np.dot(X, self.w_[1:]) + self.w_[0]\n",
    "    def predict(self, X):\n",
    "        \"\"\"Return class label after unit step\"\"\"\n",
    "        return np.where(self.net_input(X) >= 0.0, 1, -1)"
   ]
  },
  {
   "cell_type": "code",
   "execution_count": null,
   "metadata": {},
   "outputs": [],
   "source": [
    "ppn = Perceptron(eta=0.1, n_iter=10)\n",
    "ppn.fit(X, y)\n",
    "plt.plot(range(1, len(ppn.errors_) + 1), ppn.errors_, marker='o')\n",
    "plt.xlabel('Epochs')\n",
    "plt.ylabel('Number of misclassifications')\n",
    "plt.show()"
   ]
  },
  {
   "cell_type": "code",
   "execution_count": null,
   "metadata": {},
   "outputs": [],
   "source": [
    "from matplotlib.colors import ListedColormap\n",
    "def plot_decision_regions(X, y, classifier, resolution=0.02):\n",
    "    # setup marker generator and color map\n",
    "    markers = ('s', 'x', 'o', '^', 'v')\n",
    "    colors = ('red', 'blue', 'lightgreen', 'gray', 'cyan')\n",
    "    cmap = ListedColormap(colors[:len(np.unique(y))])\n",
    "    # plot the decision surface\n",
    "    x1_min, x1_max = X[:, 0].min() - 1, X[:, 0].max() + 1\n",
    "    x2_min, x2_max = X[:, 1].min() - 1, X[:, 1].max() + 1\n",
    "    xx1, xx2 = np.meshgrid(np.arange(x1_min, x1_max, resolution),\n",
    "                         np.arange(x2_min, x2_max, resolution))\n",
    "    Z = classifier.predict(np.array([xx1.ravel(), xx2.ravel()]).T)\n",
    "    Z = Z.reshape(xx1.shape)\n",
    "    plt.contourf(xx1, xx2, Z, alpha=0.4)\n",
    "    plt.xlim(xx1.min(), xx1.max())\n",
    "    plt.ylim(xx2.min(), xx2.max())\n",
    "    # plot class samples\n",
    "    for idx, cl in enumerate(np.unique(y)):\n",
    "        plt.scatter(x=X[y == cl, 0], y=X[y == cl, 1],\n",
    "                    alpha=0.8, c=cmap(idx),\n",
    "                    marker=markers[idx], label=cl)"
   ]
  },
  {
   "cell_type": "code",
   "execution_count": null,
   "metadata": {},
   "outputs": [],
   "source": [
    "plot_decision_regions(X, y, classifier=ppn)\n",
    "plt.xlabel('sepal length [cm]')\n",
    "plt.ylabel('petal length [cm]')\n",
    "plt.legend(loc='upper left')\n",
    "plt.show()"
   ]
  },
  {
   "cell_type": "markdown",
   "metadata": {},
   "source": [
    "## Example of Standard Scaler"
   ]
  },
  {
   "cell_type": "code",
   "execution_count": null,
   "metadata": {},
   "outputs": [],
   "source": [
    "from sklearn.preprocessing import StandardScaler\n",
    "data = [[0, 0], [1, 1]]\n",
    "scaler = StandardScaler()\n",
    "nd = scaler.fit(data)\n",
    "\n",
    "print(nd.mean_)\n",
    "print(nd.var_)\n",
    "print(scaler.transform(data))\n",
    "print(\"New Scale: {0}\".format(scaler.transform([[2,2]])))"
   ]
  },
  {
   "cell_type": "markdown",
   "metadata": {},
   "source": [
    "## Gensim Word2Vec"
   ]
  },
  {
   "cell_type": "code",
   "execution_count": null,
   "metadata": {},
   "outputs": [],
   "source": [
    "from gensim.models import Word2Vec\n",
    "from sklearn.decomposition import PCA\n",
    "from matplotlib import pyplot\n",
    "# define training data\n",
    "sentences = [['this', 'is', 'the', 'first', 'sentence', 'for', 'word2vec'],\n",
    "\t\t\t['this', 'is', 'the', 'second', 'sentence'],\n",
    "\t\t\t['yet', 'another', 'sentence'],\n",
    "\t\t\t['one', 'more', 'sentence'],\n",
    "\t\t\t['and', 'the', 'final', 'sentence']]\n",
    "# train model\n",
    "model = Word2Vec(sentences, min_count=1)\n",
    "# fit a 2d PCA model to the vectors\n",
    "X = model[model.wv.vocab]\n",
    "pca = PCA(n_components=2)\n",
    "result = pca.fit_transform(X)\n",
    "# create a scatter plot of the projection\n",
    "pyplot.scatter(result[:, 0], result[:, 1])\n",
    "words = list(model.wv.vocab)\n",
    "for i, word in enumerate(words):\n",
    "\tpyplot.annotate(word, xy=(result[i, 0], result[i, 1]))\n",
    "pyplot.show()"
   ]
  },
  {
   "cell_type": "code",
   "execution_count": 1,
   "metadata": {},
   "outputs": [
    {
     "name": "stdout",
     "output_type": "stream",
     "text": [
      "Pixiedust database opened successfully\n"
     ]
    },
    {
     "data": {
      "text/html": [
       "\n",
       "        <div style=\"margin:10px\">\n",
       "            <a href=\"https://github.com/ibm-watson-data-lab/pixiedust\" target=\"_new\">\n",
       "                <img src=\"https://github.com/ibm-watson-data-lab/pixiedust/raw/master/docs/_static/pd_icon32.png\" style=\"float:left;margin-right:10px\"/>\n",
       "            </a>\n",
       "            <span>Pixiedust version 1.1.15</span>\n",
       "        </div>\n",
       "        "
      ],
      "text/plain": [
       "<IPython.core.display.HTML object>"
      ]
     },
     "metadata": {},
     "output_type": "display_data"
    },
    {
     "name": "stderr",
     "output_type": "stream",
     "text": [
      "UsageError: Line magic function `%%pixie_debugger` not found.\n"
     ]
    }
   ],
   "source": [
    "import pixiedust\n",
    "%%pixie_debugger"
   ]
  },
  {
   "cell_type": "code",
   "execution_count": 9,
   "metadata": {},
   "outputs": [
    {
     "data": {
      "application/json": {
       "cell": {
        "!": "OSMagics",
        "HTML": "Other",
        "SVG": "Other",
        "bash": "Other",
        "capture": "ExecutionMagics",
        "debug": "ExecutionMagics",
        "file": "Other",
        "html": "DisplayMagics",
        "javascript": "DisplayMagics",
        "js": "DisplayMagics",
        "latex": "DisplayMagics",
        "markdown": "DisplayMagics",
        "perl": "Other",
        "prun": "ExecutionMagics",
        "pypy": "Other",
        "python": "Other",
        "python2": "Other",
        "python3": "Other",
        "ruby": "Other",
        "script": "ScriptMagics",
        "sh": "Other",
        "svg": "DisplayMagics",
        "sx": "OSMagics",
        "system": "OSMagics",
        "time": "ExecutionMagics",
        "timeit": "ExecutionMagics",
        "writefile": "OSMagics"
       },
       "line": {
        "alias": "OSMagics",
        "alias_magic": "BasicMagics",
        "autoawait": "AsyncMagics",
        "autocall": "AutoMagics",
        "automagic": "AutoMagics",
        "autosave": "KernelMagics",
        "bookmark": "OSMagics",
        "cat": "Other",
        "cd": "OSMagics",
        "clear": "KernelMagics",
        "colors": "BasicMagics",
        "config": "ConfigMagics",
        "connect_info": "KernelMagics",
        "cp": "Other",
        "debug": "ExecutionMagics",
        "dhist": "OSMagics",
        "dirs": "OSMagics",
        "doctest_mode": "BasicMagics",
        "ed": "Other",
        "edit": "KernelMagics",
        "env": "OSMagics",
        "gui": "BasicMagics",
        "hist": "Other",
        "history": "HistoryMagics",
        "killbgscripts": "ScriptMagics",
        "ldir": "Other",
        "less": "KernelMagics",
        "lf": "Other",
        "lk": "Other",
        "ll": "Other",
        "load": "CodeMagics",
        "load_ext": "ExtensionMagics",
        "loadpy": "CodeMagics",
        "logoff": "LoggingMagics",
        "logon": "LoggingMagics",
        "logstart": "LoggingMagics",
        "logstate": "LoggingMagics",
        "logstop": "LoggingMagics",
        "ls": "Other",
        "lsmagic": "BasicMagics",
        "lx": "Other",
        "macro": "ExecutionMagics",
        "magic": "BasicMagics",
        "man": "KernelMagics",
        "matplotlib": "PylabMagics",
        "mkdir": "Other",
        "more": "KernelMagics",
        "mv": "Other",
        "notebook": "BasicMagics",
        "page": "BasicMagics",
        "pastebin": "CodeMagics",
        "pdb": "ExecutionMagics",
        "pdef": "NamespaceMagics",
        "pdoc": "NamespaceMagics",
        "pfile": "NamespaceMagics",
        "pinfo": "NamespaceMagics",
        "pinfo2": "NamespaceMagics",
        "pip": "BasicMagics",
        "popd": "OSMagics",
        "pprint": "BasicMagics",
        "precision": "BasicMagics",
        "prun": "ExecutionMagics",
        "psearch": "NamespaceMagics",
        "psource": "NamespaceMagics",
        "pushd": "OSMagics",
        "pwd": "OSMagics",
        "pycat": "OSMagics",
        "pylab": "PylabMagics",
        "qtconsole": "KernelMagics",
        "quickref": "BasicMagics",
        "recall": "HistoryMagics",
        "rehashx": "OSMagics",
        "reload_ext": "ExtensionMagics",
        "rep": "Other",
        "rerun": "HistoryMagics",
        "reset": "NamespaceMagics",
        "reset_selective": "NamespaceMagics",
        "rm": "Other",
        "rmdir": "Other",
        "run": "ExecutionMagics",
        "save": "CodeMagics",
        "sc": "OSMagics",
        "set_env": "OSMagics",
        "store": "StoreMagics",
        "sx": "OSMagics",
        "system": "OSMagics",
        "tb": "ExecutionMagics",
        "time": "ExecutionMagics",
        "timeit": "ExecutionMagics",
        "unalias": "OSMagics",
        "unload_ext": "ExtensionMagics",
        "who": "NamespaceMagics",
        "who_ls": "NamespaceMagics",
        "whos": "NamespaceMagics",
        "xdel": "NamespaceMagics",
        "xmode": "BasicMagics"
       }
      },
      "text/plain": [
       "Available line magics:\n",
       "%alias  %alias_magic  %autoawait  %autocall  %automagic  %autosave  %bookmark  %cat  %cd  %clear  %colors  %config  %connect_info  %cp  %debug  %dhist  %dirs  %doctest_mode  %ed  %edit  %env  %gui  %hist  %history  %killbgscripts  %ldir  %less  %lf  %lk  %ll  %load  %load_ext  %loadpy  %logoff  %logon  %logstart  %logstate  %logstop  %ls  %lsmagic  %lx  %macro  %magic  %man  %matplotlib  %mkdir  %more  %mv  %notebook  %page  %pastebin  %pdb  %pdef  %pdoc  %pfile  %pinfo  %pinfo2  %popd  %pprint  %precision  %prun  %psearch  %psource  %pushd  %pwd  %pycat  %pylab  %qtconsole  %quickref  %recall  %rehashx  %reload_ext  %rep  %rerun  %reset  %reset_selective  %rm  %rmdir  %run  %save  %sc  %set_env  %store  %sx  %system  %tb  %time  %timeit  %unalias  %unload_ext  %who  %who_ls  %whos  %xdel  %xmode\n",
       "\n",
       "Available cell magics:\n",
       "%%!  %%HTML  %%SVG  %%bash  %%capture  %%debug  %%file  %%html  %%javascript  %%js  %%latex  %%markdown  %%perl  %%prun  %%pypy  %%python  %%python2  %%python3  %%ruby  %%script  %%sh  %%svg  %%sx  %%system  %%time  %%timeit  %%writefile\n",
       "\n",
       "Automagic is ON, % prefix IS NOT needed for line magics."
      ]
     },
     "execution_count": 9,
     "metadata": {},
     "output_type": "execute_result"
    }
   ],
   "source": [
    "%lsmagic"
   ]
  },
  {
   "cell_type": "code",
   "execution_count": null,
   "metadata": {},
   "outputs": [
    {
     "ename": "ModuleNotFoundError",
     "evalue": "No module named 'spacy'",
     "output_type": "error",
     "traceback": [
      "\u001b[0;31m---------------------------------------------------------------------------\u001b[0m",
      "\u001b[0;31mModuleNotFoundError\u001b[0m                       Traceback (most recent call last)",
      "\u001b[0;32m<ipython-input-14-14d257ed08ca>\u001b[0m in \u001b[0;36m<module>\u001b[0;34m\u001b[0m\n\u001b[0;32m----> 1\u001b[0;31m \u001b[0;32mimport\u001b[0m \u001b[0mspacy\u001b[0m\u001b[0;34m\u001b[0m\u001b[0;34m\u001b[0m\u001b[0m\n\u001b[0m\u001b[1;32m      2\u001b[0m \u001b[0mnlp\u001b[0m \u001b[0;34m=\u001b[0m \u001b[0mspacy\u001b[0m\u001b[0;34m.\u001b[0m\u001b[0mload\u001b[0m\u001b[0;34m(\u001b[0m\u001b[0;34m\"en_core_web_sm\"\u001b[0m\u001b[0;34m)\u001b[0m\u001b[0;34m\u001b[0m\u001b[0;34m\u001b[0m\u001b[0m\n",
      "\u001b[0;31mModuleNotFoundError\u001b[0m: No module named 'spacy'"
     ]
    },
    {
     "name": "stdout",
     "output_type": "stream",
     "text": [
      "> \u001b[0;32m<ipython-input-14-14d257ed08ca>\u001b[0m(1)\u001b[0;36m<module>\u001b[0;34m()\u001b[0m\n",
      "\u001b[0;32m----> 1 \u001b[0;31m\u001b[0;32mimport\u001b[0m \u001b[0mspacy\u001b[0m\u001b[0;34m\u001b[0m\u001b[0;34m\u001b[0m\u001b[0m\n",
      "\u001b[0m\u001b[0;32m      2 \u001b[0;31m\u001b[0mnlp\u001b[0m \u001b[0;34m=\u001b[0m \u001b[0mspacy\u001b[0m\u001b[0;34m.\u001b[0m\u001b[0mload\u001b[0m\u001b[0;34m(\u001b[0m\u001b[0;34m\"en_core_web_sm\"\u001b[0m\u001b[0;34m)\u001b[0m\u001b[0;34m\u001b[0m\u001b[0;34m\u001b[0m\u001b[0m\n",
      "\u001b[0m\n",
      "--KeyboardInterrupt--\n"
     ]
    }
   ],
   "source": [
    "import spacy\n",
    "nlp = spacy.load(\"en_core_web_sm\")"
   ]
  }
 ],
 "metadata": {
  "celltoolbar": "Raw Cell Format",
  "hide_input": false,
  "kernelspec": {
   "display_name": "Python 3",
   "language": "python",
   "name": "python3"
  },
  "language_info": {
   "codemirror_mode": {
    "name": "ipython",
    "version": 3
   },
   "file_extension": ".py",
   "mimetype": "text/x-python",
   "name": "python",
   "nbconvert_exporter": "python",
   "pygments_lexer": "ipython3",
   "version": "3.6.7"
  },
  "varInspector": {
   "cols": {
    "lenName": 16,
    "lenType": 16,
    "lenVar": 40
   },
   "kernels_config": {
    "python": {
     "delete_cmd_postfix": "",
     "delete_cmd_prefix": "del ",
     "library": "var_list.py",
     "varRefreshCmd": "print(var_dic_list())"
    },
    "r": {
     "delete_cmd_postfix": ") ",
     "delete_cmd_prefix": "rm(",
     "library": "var_list.r",
     "varRefreshCmd": "cat(var_dic_list()) "
    }
   },
   "types_to_exclude": [
    "module",
    "function",
    "builtin_function_or_method",
    "instance",
    "_Feature"
   ],
   "window_display": false
  }
 },
 "nbformat": 4,
 "nbformat_minor": 2
}
